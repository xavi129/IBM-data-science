{
 "cells": [
  {
   "cell_type": "markdown",
   "metadata": {},
   "source": [
    "# Mi Proyecto\n"
   ]
  },
  {
   "cell_type": "markdown",
   "metadata": {},
   "source": [
    "## Introducción\n",
    "En este cuaderno, exploraremos herramientas y lenguajes comunes en la ciencia de datos, además de ejemplos de operaciones matemáticas básicas.\n"
   ]
  },
  {
   "cell_type": "markdown",
   "metadata": {},
   "source": [
    "## Lenguajes de Ciencia de Datos\n",
    "- Python\n",
    "- R\n",
    "- SQL\n",
    "- Julia\n"
   ]
  },
  {
   "cell_type": "markdown",
   "metadata": {},
   "source": [
    "## Bibliotecas de Ciencia de Datos\n",
    "- NumPy\n",
    "- Pandas\n",
    "- Matplotlib\n",
    "- Scikit-learn\n"
   ]
  },
  {
   "cell_type": "markdown",
   "metadata": {},
   "source": [
    "## Herramientas de Ciencia de Datos\n",
    "| Herramienta           | Propósito                  |\n",
    "|-----------------------|----------------------------|\n",
    "| Jupyter Notebooks      | Desarrollo interactivo     |\n",
    "| RStudio               | Análisis y visualización   |\n",
    "| Apache Spark          | Procesamiento a gran escala|\n",
    "| Tableau               | Visualización de datos     |\n"
   ]
  },
  {
   "cell_type": "markdown",
   "metadata": {},
   "source": [
    "## Ejemplos de Expresiones Aritméticas\n",
    "Aquí tienes algunos ejemplos sencillos de operaciones matemáticas, como suma y multiplicación.\n"
   ]
  },
  {
   "cell_type": "code",
   "execution_count": null,
   "metadata": {},
   "outputs": [],
   "source": [
    "# Multiplicación y suma\n",
    "resultado = (3 * 4) + 5\n",
    "resultado\n",
    "    "
   ]
  },
  {
   "cell_type": "code",
   "execution_count": null,
   "metadata": {},
   "outputs": [],
   "source": [
    "# Conversión de minutos a horas\n",
    "minutos = 150\n",
    "horas = minutos / 60\n",
    "horas\n"
   ]
  },
  {
   "cell_type": "code",
   "execution_count": null,
   "metadata": {},
   "outputs": [],
   "source": [
    "objetivos = [\"Aprender lenguajes de programación\", \"Aplicar bibliotecas de datos\", \"Realizar análisis\"]\n",
    "objetivos\n"
   ]
  },
  {
   "cell_type": "markdown",
   "metadata": {},
   "source": [
    "## Autor\n",
    "Javier Hernandez Mancilla \n"
   ]
  }
 ],
 "metadata": {
  "language_info": {
   "name": "python"
  }
 },
 "nbformat": 4,
 "nbformat_minor": 2
}
